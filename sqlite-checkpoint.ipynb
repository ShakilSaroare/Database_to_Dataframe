{
 "cells": [
  {
   "cell_type": "markdown",
   "metadata": {},
   "source": [
    "# From DataBase to DataFrame with sqlite3 and pandas"
   ]
  },
  {
   "cell_type": "markdown",
   "metadata": {},
   "source": [
    "I recently have completed a LinkedIn course on basic SQL with SQLITESTUDIO. I am going to review some of the lesssons from that course here with python package sqlite3. To do that, let us first load the necessary packages."
   ]
  },
  {
   "cell_type": "code",
   "execution_count": 6,
   "metadata": {},
   "outputs": [],
   "source": [
    "import pandas as pd\n",
    "from sqlite3 import connect"
   ]
  },
  {
   "cell_type": "markdown",
   "metadata": {},
   "source": [
    "This sqlite3 package, along with pandas, are handy tools to run SQL command in python environment. This package requires database (.db) file. Therefore, if the exported file from the database is in other formats, for example, .sql, we can use sqlite3 to transform those in a .db file. I have used following steps to convert .sql file into .db file using sqlite3:\n",
    "\n",
    "- In command prompt, change the directory (cd) to sqlite3.exe\n",
    "- Write a database file by command: >sqlite3 databasename.db\n",
    "- Paste the databasename.db in the same directory by the command: >.database  \n",
    "- Copy the .sql file in the same directory.\n",
    "- Read the .sql file (databasename.sql) and overwrite on the .db file by the command: >.read databasename.sql\n",
    "\n",
    "We can now load the database with the \"connect\" fucntion from sqlite3."
   ]
  },
  {
   "cell_type": "code",
   "execution_count": 16,
   "metadata": {},
   "outputs": [
    {
     "data": {
      "text/html": [
       "<div>\n",
       "<style scoped>\n",
       "    .dataframe tbody tr th:only-of-type {\n",
       "        vertical-align: middle;\n",
       "    }\n",
       "\n",
       "    .dataframe tbody tr th {\n",
       "        vertical-align: top;\n",
       "    }\n",
       "\n",
       "    .dataframe thead th {\n",
       "        text-align: right;\n",
       "    }\n",
       "</style>\n",
       "<table border=\"1\" class=\"dataframe\">\n",
       "  <thead>\n",
       "    <tr style=\"text-align: right;\">\n",
       "      <th></th>\n",
       "      <th>name</th>\n",
       "    </tr>\n",
       "  </thead>\n",
       "  <tbody>\n",
       "    <tr>\n",
       "      <th>0</th>\n",
       "      <td>album</td>\n",
       "    </tr>\n",
       "    <tr>\n",
       "      <th>1</th>\n",
       "      <td>track</td>\n",
       "    </tr>\n",
       "  </tbody>\n",
       "</table>\n",
       "</div>"
      ],
      "text/plain": [
       "    name\n",
       "0  album\n",
       "1  track"
      ]
     },
     "execution_count": 16,
     "metadata": {},
     "output_type": "execute_result"
    }
   ],
   "source": [
    "conn = connect(\"album.db\") #loading album database\n",
    "pd.read_sql('SELECT name from sqlite_master where type= \"table\";', conn) # First of all, let us list all the tables"
   ]
  },
  {
   "cell_type": "code",
   "execution_count": 19,
   "metadata": {},
   "outputs": [
    {
     "data": {
      "text/html": [
       "<div>\n",
       "<style scoped>\n",
       "    .dataframe tbody tr th:only-of-type {\n",
       "        vertical-align: middle;\n",
       "    }\n",
       "\n",
       "    .dataframe tbody tr th {\n",
       "        vertical-align: top;\n",
       "    }\n",
       "\n",
       "    .dataframe thead th {\n",
       "        text-align: right;\n",
       "    }\n",
       "</style>\n",
       "<table border=\"1\" class=\"dataframe\">\n",
       "  <thead>\n",
       "    <tr style=\"text-align: right;\">\n",
       "      <th></th>\n",
       "      <th>id</th>\n",
       "      <th>title</th>\n",
       "      <th>artist</th>\n",
       "      <th>label</th>\n",
       "      <th>released</th>\n",
       "    </tr>\n",
       "  </thead>\n",
       "  <tbody>\n",
       "    <tr>\n",
       "      <th>0</th>\n",
       "      <td>1</td>\n",
       "      <td>Two Men with the Blues</td>\n",
       "      <td>Willie Nelson and Wynton Marsalis</td>\n",
       "      <td>Blue Note</td>\n",
       "      <td>2008-07-08</td>\n",
       "    </tr>\n",
       "    <tr>\n",
       "      <th>1</th>\n",
       "      <td>11</td>\n",
       "      <td>Hendrix in the West</td>\n",
       "      <td>Jimi Hendrix</td>\n",
       "      <td>Polydor</td>\n",
       "      <td>1972-01-00</td>\n",
       "    </tr>\n",
       "    <tr>\n",
       "      <th>2</th>\n",
       "      <td>12</td>\n",
       "      <td>Rubber Soul</td>\n",
       "      <td>The Beatles</td>\n",
       "      <td>Parlophone</td>\n",
       "      <td>1965-12-03</td>\n",
       "    </tr>\n",
       "    <tr>\n",
       "      <th>3</th>\n",
       "      <td>13</td>\n",
       "      <td>Birds of Fire</td>\n",
       "      <td>Mahavishnu Orchestra</td>\n",
       "      <td>Columbia</td>\n",
       "      <td>1973-03-00</td>\n",
       "    </tr>\n",
       "    <tr>\n",
       "      <th>4</th>\n",
       "      <td>16</td>\n",
       "      <td>Live And</td>\n",
       "      <td>Johnny Winter</td>\n",
       "      <td>Columbia</td>\n",
       "      <td>1971-05-00</td>\n",
       "    </tr>\n",
       "  </tbody>\n",
       "</table>\n",
       "</div>"
      ],
      "text/plain": [
       "   id                   title                             artist       label  \\\n",
       "0   1  Two Men with the Blues  Willie Nelson and Wynton Marsalis   Blue Note   \n",
       "1  11     Hendrix in the West                       Jimi Hendrix     Polydor   \n",
       "2  12             Rubber Soul                        The Beatles  Parlophone   \n",
       "3  13           Birds of Fire               Mahavishnu Orchestra    Columbia   \n",
       "4  16                Live And                      Johnny Winter    Columbia   \n",
       "\n",
       "     released  \n",
       "0  2008-07-08  \n",
       "1  1972-01-00  \n",
       "2  1965-12-03  \n",
       "3  1973-03-00  \n",
       "4  1971-05-00  "
      ]
     },
     "execution_count": 19,
     "metadata": {},
     "output_type": "execute_result"
    }
   ],
   "source": [
    "pd.read_sql('''SELECT * FROM album;''', conn).head(5) # let's have a quick look at the album table"
   ]
  },
  {
   "cell_type": "code",
   "execution_count": 23,
   "metadata": {},
   "outputs": [
    {
     "data": {
      "text/html": [
       "<div>\n",
       "<style scoped>\n",
       "    .dataframe tbody tr th:only-of-type {\n",
       "        vertical-align: middle;\n",
       "    }\n",
       "\n",
       "    .dataframe tbody tr th {\n",
       "        vertical-align: top;\n",
       "    }\n",
       "\n",
       "    .dataframe thead th {\n",
       "        text-align: right;\n",
       "    }\n",
       "</style>\n",
       "<table border=\"1\" class=\"dataframe\">\n",
       "  <thead>\n",
       "    <tr style=\"text-align: right;\">\n",
       "      <th></th>\n",
       "      <th>id</th>\n",
       "      <th>album_id</th>\n",
       "      <th>title</th>\n",
       "      <th>track_number</th>\n",
       "      <th>duration</th>\n",
       "    </tr>\n",
       "  </thead>\n",
       "  <tbody>\n",
       "    <tr>\n",
       "      <th>0</th>\n",
       "      <td>1</td>\n",
       "      <td>1</td>\n",
       "      <td>Bright Lights Big City</td>\n",
       "      <td>1</td>\n",
       "      <td>320</td>\n",
       "    </tr>\n",
       "    <tr>\n",
       "      <th>1</th>\n",
       "      <td>2</td>\n",
       "      <td>1</td>\n",
       "      <td>Night Life</td>\n",
       "      <td>2</td>\n",
       "      <td>344</td>\n",
       "    </tr>\n",
       "    <tr>\n",
       "      <th>2</th>\n",
       "      <td>3</td>\n",
       "      <td>1</td>\n",
       "      <td>Basin Street Blues</td>\n",
       "      <td>5</td>\n",
       "      <td>296</td>\n",
       "    </tr>\n",
       "    <tr>\n",
       "      <th>3</th>\n",
       "      <td>4</td>\n",
       "      <td>1</td>\n",
       "      <td>Caldonia</td>\n",
       "      <td>3</td>\n",
       "      <td>205</td>\n",
       "    </tr>\n",
       "    <tr>\n",
       "      <th>4</th>\n",
       "      <td>5</td>\n",
       "      <td>1</td>\n",
       "      <td>Stardust</td>\n",
       "      <td>4</td>\n",
       "      <td>308</td>\n",
       "    </tr>\n",
       "  </tbody>\n",
       "</table>\n",
       "</div>"
      ],
      "text/plain": [
       "   id  album_id                   title  track_number  duration\n",
       "0   1         1  Bright Lights Big City             1       320\n",
       "1   2         1              Night Life             2       344\n",
       "2   3         1      Basin Street Blues             5       296\n",
       "3   4         1                Caldonia             3       205\n",
       "4   5         1                Stardust             4       308"
      ]
     },
     "execution_count": 23,
     "metadata": {},
     "output_type": "execute_result"
    }
   ],
   "source": [
    "pd.read_sql('''SELECT * FROM track;''', conn).head(5) # and the track table"
   ]
  },
  {
   "cell_type": "markdown",
   "metadata": {},
   "source": [
    "So, the album table shows title of the album, artist names, release date etc. On the other hand, the track table shows title of the tracks, duration etc. Now, this two tables are related by \"album_id\" which will be useful whiule joining both the tables. Let's say that we are interested to find out how many tracks are in a particular album along with the duration of the albums arranged in descending order."
   ]
  },
  {
   "cell_type": "code",
   "execution_count": 40,
   "metadata": {},
   "outputs": [
    {
     "data": {
      "text/html": [
       "<div>\n",
       "<style scoped>\n",
       "    .dataframe tbody tr th:only-of-type {\n",
       "        vertical-align: middle;\n",
       "    }\n",
       "\n",
       "    .dataframe tbody tr th {\n",
       "        vertical-align: top;\n",
       "    }\n",
       "\n",
       "    .dataframe thead th {\n",
       "        text-align: right;\n",
       "    }\n",
       "</style>\n",
       "<table border=\"1\" class=\"dataframe\">\n",
       "  <thead>\n",
       "    <tr style=\"text-align: right;\">\n",
       "      <th></th>\n",
       "      <th>Album</th>\n",
       "      <th>Tracks</th>\n",
       "      <th>Duration</th>\n",
       "    </tr>\n",
       "  </thead>\n",
       "  <tbody>\n",
       "    <tr>\n",
       "      <th>0</th>\n",
       "      <td>Two Men with the Blues</td>\n",
       "      <td>10</td>\n",
       "      <td>53:27</td>\n",
       "    </tr>\n",
       "    <tr>\n",
       "      <th>1</th>\n",
       "      <td>Hendrix in the West</td>\n",
       "      <td>9</td>\n",
       "      <td>49:30</td>\n",
       "    </tr>\n",
       "    <tr>\n",
       "      <th>2</th>\n",
       "      <td>Kind of Blue</td>\n",
       "      <td>5</td>\n",
       "      <td>45:54</td>\n",
       "    </tr>\n",
       "    <tr>\n",
       "      <th>3</th>\n",
       "      <td>Live And</td>\n",
       "      <td>6</td>\n",
       "      <td>40:32</td>\n",
       "    </tr>\n",
       "    <tr>\n",
       "      <th>4</th>\n",
       "      <td>Birds of Fire</td>\n",
       "      <td>10</td>\n",
       "      <td>40:24</td>\n",
       "    </tr>\n",
       "    <tr>\n",
       "      <th>5</th>\n",
       "      <td>Rubber Soul</td>\n",
       "      <td>14</td>\n",
       "      <td>35:39</td>\n",
       "    </tr>\n",
       "    <tr>\n",
       "      <th>6</th>\n",
       "      <td>Apostrophe</td>\n",
       "      <td>9</td>\n",
       "      <td>31:47</td>\n",
       "    </tr>\n",
       "  </tbody>\n",
       "</table>\n",
       "</div>"
      ],
      "text/plain": [
       "                    Album  Tracks Duration\n",
       "0  Two Men with the Blues      10    53:27\n",
       "1     Hendrix in the West       9    49:30\n",
       "2            Kind of Blue       5    45:54\n",
       "3                Live And       6    40:32\n",
       "4           Birds of Fire      10    40:24\n",
       "5             Rubber Soul      14    35:39\n",
       "6              Apostrophe       9    31:47"
      ]
     },
     "execution_count": 40,
     "metadata": {},
     "output_type": "execute_result"
    }
   ],
   "source": [
    "df = pd.read_sql('''SELECT a.title AS Album, COUNT(t.track_number) as Tracks, \n",
    "    ((SUM(t.duration)/60) || ':' || substr('00' || (SUM(t.duration)%60), -2, 2)) AS Duration\n",
    "  FROM track AS t\n",
    "  JOIN album AS a\n",
    "    ON a.id = t.album_id\n",
    "  GROUP BY a.id\n",
    "  ORDER BY Duration DESC, Album''', conn)\n",
    "\n",
    "df"
   ]
  },
  {
   "cell_type": "code",
   "execution_count": null,
   "metadata": {},
   "outputs": [],
   "source": []
  }
 ],
 "metadata": {
  "kernelspec": {
   "display_name": "Python 3",
   "language": "python",
   "name": "python3"
  },
  "language_info": {
   "codemirror_mode": {
    "name": "ipython",
    "version": 3
   },
   "file_extension": ".py",
   "mimetype": "text/x-python",
   "name": "python",
   "nbconvert_exporter": "python",
   "pygments_lexer": "ipython3",
   "version": "3.7.3"
  }
 },
 "nbformat": 4,
 "nbformat_minor": 2
}
